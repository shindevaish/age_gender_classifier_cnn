{
 "cells": [
  {
   "cell_type": "code",
   "execution_count": 29,
   "id": "334b3f4d",
   "metadata": {},
   "outputs": [],
   "source": [
    "import torch\n",
    "from torch.utils.data import DataLoader, random_split\n",
    "from torch.nn import MSELoss, CrossEntropyLoss\n",
    "from torchvision import transforms\n",
    "import torch.optim as optim\n",
    "import os\n",
    "import time\n",
    "\n",
    "from data_loader import FaceDataset\n",
    "from model import AgeGenderModel"
   ]
  },
  {
   "cell_type": "code",
   "execution_count": 31,
   "id": "e293b46e",
   "metadata": {},
   "outputs": [],
   "source": [
    "transform = transforms.Compose([\n",
    "    transforms.Resize((224, 224)),\n",
    "    transforms.ToTensor(),\n",
    "    transforms.Normalize(mean=[0.485, 0.456, 0.406], std=[0.229, 0.224, 0.225]),\n",
    "])  \n",
    "\n",
    "full_dataset = FaceDataset(root_dir='half_dataset', transform=transform)"
   ]
  },
  {
   "cell_type": "code",
   "execution_count": 32,
   "id": "eb27e9d9",
   "metadata": {},
   "outputs": [],
   "source": [
    "filtered_indices = [i for i, (data, label) in enumerate(full_dataset) if data is not None]\n",
    "dataset = torch.utils.data.Subset(full_dataset, filtered_indices)\n",
    "\n",
    "train_size = int(0.8 * len(dataset))\n",
    "val_size = int(0.1 * len(dataset))\n",
    "test_size = len(dataset) - train_size - val_size\n",
    "train_dataset, val_dataset, test_dataset = random_split(dataset, [train_size, val_size, test_size])\n"
   ]
  },
  {
   "cell_type": "code",
   "execution_count": 33,
   "id": "3e8de4c7",
   "metadata": {},
   "outputs": [],
   "source": [
    "train_loader = DataLoader(train_dataset, batch_size = 32, shuffle = True, num_workers = 4)\n",
    "val_loader = DataLoader(val_dataset, batch_size = 32, shuffle = False, num_workers = 4)\n",
    "test_loader = DataLoader(test_dataset, batch_size = 32, shuffle = False, num_workers = 4)"
   ]
  },
  {
   "cell_type": "code",
   "execution_count": 34,
   "id": "46aeb541",
   "metadata": {},
   "outputs": [],
   "source": [
    "device = torch.device(\"cuda\" if torch.cuda.is_available() else 'cpu')\n",
    "model = AgeGenderModel().to(device)\n",
    "\n",
    "age_criterion = MSELoss()\n",
    "gender_criterion = CrossEntropyLoss()\n",
    "optimizer = optim.Adam(model.parameters(), lr = 0.001)"
   ]
  },
  {
   "cell_type": "code",
   "execution_count": null,
   "id": "3cce0bbb",
   "metadata": {},
   "outputs": [],
   "source": [
    "num_epochs = 20\n",
    "for epoch in range(num_epochs):\n",
    "    start_time = time.time()\n",
    "    model.train()\n",
    "    running_loss = 0.0\n",
    "    for images, labels in train_loader :\n",
    "        images = images.to(device)\n",
    "        ages = labels[:, 0].to(device)\n",
    "        genders = labels[:, 1].long().to(device)\n",
    "\n",
    "        optimizer.zero_grad()\n",
    "\n",
    "        age_pred, gender_pred = model(images)\n",
    "\n",
    "        age_loss = age_criterion(age_pred.squeeze(), ages)\n",
    "        gender_loss = gender_criterion(gender_pred, genders)\n",
    "        total_loss = age_loss + gender_loss\n",
    "\n",
    "        total_loss.backward()\n",
    "\n",
    "        optimizer.step()\n",
    "\n",
    "        running_loss += total_loss.item()\n",
    "    end_time = time.time()\n",
    "    print(f\"Epoch {epoch+1}/{num_epochs}, Loss: {running_loss/len(train_loader):4f}, Time: {end_time - start_time:.2f}sec\")\n",
    "\n",
    "torch.save(model.state_dict(),'models/age_gender_model.path')\n",
    "print(\"Training complete. Model saved.\")\n"
   ]
  },
  {
   "cell_type": "code",
   "execution_count": 26,
   "id": "ff7a5593",
   "metadata": {},
   "outputs": [],
   "source": [
    "import torch\n",
    "from torch.utils.data import DataLoader, random_split\n",
    "from sklearn.metrics import accuracy_score, mean_absolute_error, confusion_matrix\n",
    "import numpy as np\n",
    "\n",
    "from data_loader import FaceDataset\n",
    "from model import AgeGenderModel"
   ]
  },
  {
   "cell_type": "code",
   "execution_count": null,
   "id": "a5e01eca",
   "metadata": {},
   "outputs": [],
   "source": [
    "transform = transforms.Compose([\n",
    "        transforms.Resize((224, 224)),\n",
    "        transforms.ToTensor(),\n",
    "        transforms.Normalize(mean=[0.485, 0.456, 0.406], std=[0.229, 0.224, 0.225]),\n",
    "    ])"
   ]
  },
  {
   "cell_type": "code",
   "execution_count": 28,
   "id": "f0a89ae0",
   "metadata": {},
   "outputs": [
    {
     "ename": "FileNotFoundError",
     "evalue": "[Errno 2] No such file or directory: 'age_gender_model.path'",
     "output_type": "error",
     "traceback": [
      "\u001b[31m---------------------------------------------------------------------------\u001b[39m",
      "\u001b[31mFileNotFoundError\u001b[39m                         Traceback (most recent call last)",
      "\u001b[36mCell\u001b[39m\u001b[36m \u001b[39m\u001b[32mIn[28]\u001b[39m\u001b[32m, line 6\u001b[39m\n\u001b[32m      4\u001b[39m \u001b[38;5;66;03m# Load the trained model\u001b[39;00m\n\u001b[32m      5\u001b[39m model = AgeGenderModel().to(device)\n\u001b[32m----> \u001b[39m\u001b[32m6\u001b[39m model.load_state_dict(\u001b[43mtorch\u001b[49m\u001b[43m.\u001b[49m\u001b[43mload\u001b[49m\u001b[43m(\u001b[49m\u001b[33;43m'\u001b[39;49m\u001b[33;43mage_gender_model.path\u001b[39;49m\u001b[33;43m'\u001b[39;49m\u001b[43m)\u001b[49m)\n\u001b[32m      7\u001b[39m model.eval()\n",
      "\u001b[36mFile \u001b[39m\u001b[32m~/anaconda3/envs/agdenv/lib/python3.11/site-packages/torch/serialization.py:998\u001b[39m, in \u001b[36mload\u001b[39m\u001b[34m(f, map_location, pickle_module, weights_only, mmap, **pickle_load_args)\u001b[39m\n\u001b[32m    995\u001b[39m \u001b[38;5;28;01mif\u001b[39;00m \u001b[33m'\u001b[39m\u001b[33mencoding\u001b[39m\u001b[33m'\u001b[39m \u001b[38;5;129;01mnot\u001b[39;00m \u001b[38;5;129;01min\u001b[39;00m pickle_load_args.keys():\n\u001b[32m    996\u001b[39m     pickle_load_args[\u001b[33m'\u001b[39m\u001b[33mencoding\u001b[39m\u001b[33m'\u001b[39m] = \u001b[33m'\u001b[39m\u001b[33mutf-8\u001b[39m\u001b[33m'\u001b[39m\n\u001b[32m--> \u001b[39m\u001b[32m998\u001b[39m \u001b[38;5;28;01mwith\u001b[39;00m \u001b[43m_open_file_like\u001b[49m\u001b[43m(\u001b[49m\u001b[43mf\u001b[49m\u001b[43m,\u001b[49m\u001b[43m \u001b[49m\u001b[33;43m'\u001b[39;49m\u001b[33;43mrb\u001b[39;49m\u001b[33;43m'\u001b[39;49m\u001b[43m)\u001b[49m \u001b[38;5;28;01mas\u001b[39;00m opened_file:\n\u001b[32m    999\u001b[39m     \u001b[38;5;28;01mif\u001b[39;00m _is_zipfile(opened_file):\n\u001b[32m   1000\u001b[39m         \u001b[38;5;66;03m# The zipfile reader is going to advance the current file position.\u001b[39;00m\n\u001b[32m   1001\u001b[39m         \u001b[38;5;66;03m# If we want to actually tail call to torch.jit.load, we need to\u001b[39;00m\n\u001b[32m   1002\u001b[39m         \u001b[38;5;66;03m# reset back to the original position.\u001b[39;00m\n\u001b[32m   1003\u001b[39m         orig_position = opened_file.tell()\n",
      "\u001b[36mFile \u001b[39m\u001b[32m~/anaconda3/envs/agdenv/lib/python3.11/site-packages/torch/serialization.py:445\u001b[39m, in \u001b[36m_open_file_like\u001b[39m\u001b[34m(name_or_buffer, mode)\u001b[39m\n\u001b[32m    443\u001b[39m \u001b[38;5;28;01mdef\u001b[39;00m\u001b[38;5;250m \u001b[39m\u001b[34m_open_file_like\u001b[39m(name_or_buffer, mode):\n\u001b[32m    444\u001b[39m     \u001b[38;5;28;01mif\u001b[39;00m _is_path(name_or_buffer):\n\u001b[32m--> \u001b[39m\u001b[32m445\u001b[39m         \u001b[38;5;28;01mreturn\u001b[39;00m \u001b[43m_open_file\u001b[49m\u001b[43m(\u001b[49m\u001b[43mname_or_buffer\u001b[49m\u001b[43m,\u001b[49m\u001b[43m \u001b[49m\u001b[43mmode\u001b[49m\u001b[43m)\u001b[49m\n\u001b[32m    446\u001b[39m     \u001b[38;5;28;01melse\u001b[39;00m:\n\u001b[32m    447\u001b[39m         \u001b[38;5;28;01mif\u001b[39;00m \u001b[33m'\u001b[39m\u001b[33mw\u001b[39m\u001b[33m'\u001b[39m \u001b[38;5;129;01min\u001b[39;00m mode:\n",
      "\u001b[36mFile \u001b[39m\u001b[32m~/anaconda3/envs/agdenv/lib/python3.11/site-packages/torch/serialization.py:426\u001b[39m, in \u001b[36m_open_file.__init__\u001b[39m\u001b[34m(self, name, mode)\u001b[39m\n\u001b[32m    425\u001b[39m \u001b[38;5;28;01mdef\u001b[39;00m\u001b[38;5;250m \u001b[39m\u001b[34m__init__\u001b[39m(\u001b[38;5;28mself\u001b[39m, name, mode):\n\u001b[32m--> \u001b[39m\u001b[32m426\u001b[39m     \u001b[38;5;28msuper\u001b[39m().\u001b[34m__init__\u001b[39m(\u001b[38;5;28;43mopen\u001b[39;49m\u001b[43m(\u001b[49m\u001b[43mname\u001b[49m\u001b[43m,\u001b[49m\u001b[43m \u001b[49m\u001b[43mmode\u001b[49m\u001b[43m)\u001b[49m)\n",
      "\u001b[31mFileNotFoundError\u001b[39m: [Errno 2] No such file or directory: 'age_gender_model.path'"
     ]
    }
   ],
   "source": [
    "root_dir = '/Users/vaishnavishinde/Desktop/age_detector/dataset'\n",
    "device = torch.device(\"cuda\" if torch.cuda.is_available() else \"cpu\")\n",
    "\n",
    "# Load the trained model\n",
    "model = AgeGenderModel().to(device)\n",
    "model.load_state_dict(torch.load('age_gender_model.path'))\n",
    "model.eval()"
   ]
  },
  {
   "cell_type": "code",
   "execution_count": null,
   "id": "0ecf2bd3",
   "metadata": {},
   "outputs": [],
   "source": [
    "full_dataset = UTKFaceDataset(root_dir=root_dir, transform=transform)\n",
    "filtered_indices = [i for i, (data, label) in enumerate(full_dataset) if data is not None]\n",
    "dataset = torch.utils.data.Subset(full_dataset, filtered_indices)\n",
    "\n",
    "train_size = int(0.8 * len(dataset))\n",
    "val_size = int(0.1 * len(dataset))\n",
    "test_size = len(dataset) - train_size - val_size\n",
    "_, _, test_dataset = random_split(dataset, [train_size, val_size, test_size])"
   ]
  },
  {
   "cell_type": "code",
   "execution_count": null,
   "id": "f59c8005",
   "metadata": {},
   "outputs": [],
   "source": [
    "\n",
    "\n",
    "def main():\n",
    "    root_dir = 'path/to/UTKFace'\n",
    "    device = torch.device(\"cuda\" if torch.cuda.is_available() else \"cpu\")\n",
    "    \n",
    "    # Load the trained model\n",
    "    model = AgeGenderModel().to(device)\n",
    "    model.load_state_dict(torch.load('age_gender_model.pth'))\n",
    "    model.eval()\n",
    "    \n",
    "    # Recreate the dataset split for a consistent test set\n",
    "    full_dataset = UTKFaceDataset(root_dir=root_dir, transform=get_transforms())\n",
    "    filtered_indices = [i for i, (data, label) in enumerate(full_dataset) if data is not None]\n",
    "    dataset = torch.utils.data.Subset(full_dataset, filtered_indices)\n",
    "    \n",
    "    train_size = int(0.8 * len(dataset))\n",
    "    val_size = int(0.1 * len(dataset))\n",
    "    test_size = len(dataset) - train_size - val_size\n",
    "    _, _, test_dataset = random_split(dataset, [train_size, val_size, test_size])\n",
    "    \n",
    "    test_loader = DataLoader(test_dataset, batch_size=32, shuffle=False)\n",
    "\n",
    "    all_ages = []\n",
    "    all_age_preds = []\n",
    "    all_genders = []\n",
    "    all_gender_preds = []\n",
    "    \n",
    "    with torch.no_grad():\n",
    "        for images, labels in test_loader:\n",
    "            images = images.to(device)\n",
    "            ages = labels[:, 0].numpy()\n",
    "            genders = labels[:, 1].numpy()\n",
    "            \n",
    "            age_pred, gender_pred = model(images)\n",
    "            \n",
    "            all_ages.extend(ages)\n",
    "            all_genders.extend(genders)\n",
    "            all_age_preds.extend(age_pred.squeeze().cpu().numpy())\n",
    "            all_gender_preds.extend(torch.argmax(gender_pred, dim=1).cpu().numpy())\n",
    "\n",
    "    # Gender metrics\n",
    "    gender_accuracy = accuracy_score(all_genders, all_gender_preds)\n",
    "    conf_matrix = confusion_matrix(all_genders, all_gender_preds)\n",
    "\n",
    "    # Age metrics\n",
    "    mae = mean_absolute_error(all_ages, all_age_preds)\n",
    "    \n",
    "    print(f\"Gender Accuracy: {gender_accuracy:.4f}\")\n",
    "    print(\"Gender Confusion Matrix:\\n\", conf_matrix)\n",
    "    print(f\"Age Mean Absolute Error (MAE): {mae:.2f}\")\n",
    "\n",
    "if __name__ == '__main__':\n",
    "    main()"
   ]
  }
 ],
 "metadata": {
  "kernelspec": {
   "display_name": "agdenv",
   "language": "python",
   "name": "python3"
  },
  "language_info": {
   "codemirror_mode": {
    "name": "ipython",
    "version": 3
   },
   "file_extension": ".py",
   "mimetype": "text/x-python",
   "name": "python",
   "nbconvert_exporter": "python",
   "pygments_lexer": "ipython3",
   "version": "3.11.13"
  }
 },
 "nbformat": 4,
 "nbformat_minor": 5
}
