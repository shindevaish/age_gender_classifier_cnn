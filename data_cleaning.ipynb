{
 "cells": [
  {
   "cell_type": "markdown",
   "id": "24fc50a6",
   "metadata": {},
   "source": [
    "### BASIC EDA ON DATASET OF IMAGES"
   ]
  },
  {
   "cell_type": "markdown",
   "id": "2c54b25d",
   "metadata": {},
   "source": [
    "Data overview"
   ]
  },
  {
   "cell_type": "code",
   "execution_count": 2,
   "id": "9fda763d",
   "metadata": {},
   "outputs": [
    {
     "data": {
      "text/plain": [
       "10137"
      ]
     },
     "execution_count": 2,
     "metadata": {},
     "output_type": "execute_result"
    }
   ],
   "source": [
    "import os\n",
    "from collections import Counter\n",
    "\n",
    "dir = 'dataset'\n",
    "dataset = os.listdir(dir)\n",
    "len(dataset)"
   ]
  },
  {
   "cell_type": "code",
   "execution_count": 3,
   "id": "14202176",
   "metadata": {},
   "outputs": [
    {
     "name": "stdout",
     "output_type": "stream",
     "text": [
      "10137\n"
     ]
    }
   ],
   "source": [
    "counts = {cls: len(os.path.join(dir, cls)) for cls in dataset}\n",
    "print(len(counts))"
   ]
  },
  {
   "cell_type": "markdown",
   "id": "ac9444f5",
   "metadata": {},
   "source": [
    "Check shape and size of images"
   ]
  },
  {
   "cell_type": "code",
   "execution_count": 4,
   "id": "072783d2",
   "metadata": {},
   "outputs": [],
   "source": [
    "from PIL import Image\n",
    "import numpy as np"
   ]
  },
  {
   "cell_type": "code",
   "execution_count": 5,
   "id": "dd1c19e7",
   "metadata": {},
   "outputs": [
    {
     "name": "stdout",
     "output_type": "stream",
     "text": [
      "4284\n",
      "10137\n"
     ]
    }
   ],
   "source": [
    "sizes = []\n",
    "for img_name in dataset:\n",
    "    img = Image.open(os.path.join(dir, img_name))\n",
    "    sizes.append(img.size)\n",
    "\n",
    "unique_sizes = Counter(sizes)\n",
    "print(len(unique_sizes))\n",
    "print(len(sizes))"
   ]
  },
  {
   "cell_type": "code",
   "execution_count": 6,
   "id": "d6806d63",
   "metadata": {},
   "outputs": [
    {
     "data": {
      "image/png": "[encoded data removed]",
      "text/plain": [
       "<Figure size 640x480 with 1 Axes>"
      ]
     },
     "metadata": {},
     "output_type": "display_data"
    }
   ],
   "source": [
    "import matplotlib.pyplot as plt\n",
    "\n",
    "ratios = [w/h for (w,h) in sizes]\n",
    "plt.plot(ratios)\n",
    "plt.title(\"Aspect Ratio Distribution\")\n",
    "plt.show()\n"
   ]
  },
  {
   "cell_type": "code",
   "execution_count": 7,
   "id": "a65af9f8",
   "metadata": {},
   "outputs": [],
   "source": [
    "set_ratios = set(ratios)\n",
    "count_dict = {}\n",
    "for ratio in set_ratios:\n",
    "    count = ratios.count(ratio)\n",
    "    count_dict[ratio] = count\n"
   ]
  },
  {
   "cell_type": "code",
   "execution_count": 8,
   "id": "ea439ae4",
   "metadata": {},
   "outputs": [
    {
     "data": {
      "text/plain": [
       "358"
      ]
     },
     "execution_count": 8,
     "metadata": {},
     "output_type": "execute_result"
    }
   ],
   "source": [
    "max(count_dict.values())"
   ]
  },
  {
   "cell_type": "markdown",
   "id": "06f39556",
   "metadata": {},
   "source": [
    "### Checking Duplicacy "
   ]
  },
  {
   "cell_type": "code",
   "execution_count": 9,
   "id": "784fe3ac",
   "metadata": {},
   "outputs": [],
   "source": [
    "import os \n",
    "from PIL import Image\n",
    "import pandas as pd\n",
    "from tqdm import tqdm\n",
    "import imagehash"
   ]
  },
  {
   "cell_type": "code",
   "execution_count": 10,
   "id": "782c2ee5",
   "metadata": {},
   "outputs": [],
   "source": [
    "def compute_hash(image_path):\n",
    "    try:\n",
    "        img = Image.open(image_path).convert('RGB')\n",
    "        ahash = imagehash.average_hash(img) # capture the overall brightness pattern\n",
    "        phash = imagehash.phash(img) # capture the perceptual features\n",
    "        dhash = imagehash.dhash(img) # capture changes between adjacent pixels\n",
    "        return str(ahash), str(phash), str(dhash) # binary to hex converted\n",
    "    except Exception as e:\n",
    "        print(f\"Error processing {image_path}: {e}\")\n",
    "        return None, None, None"
   ]
  },
  {
   "cell_type": "code",
   "execution_count": 11,
   "id": "4a14e88a",
   "metadata": {},
   "outputs": [
    {
     "data": {
      "text/html": [
       "<div>\n",
       "<style scoped>\n",
       "    .dataframe tbody tr th:only-of-type {\n",
       "        vertical-align: middle;\n",
       "    }\n",
       "\n",
       "    .dataframe tbody tr th {\n",
       "        vertical-align: top;\n",
       "    }\n",
       "\n",
       "    .dataframe thead th {\n",
       "        text-align: right;\n",
       "    }\n",
       "</style>\n",
       "<table border=\"1\" class=\"dataframe\">\n",
       "  <thead>\n",
       "    <tr style=\"text-align: right;\">\n",
       "      <th></th>\n",
       "      <th>image_path</th>\n",
       "      <th>ahash</th>\n",
       "      <th>phash</th>\n",
       "      <th>dhash</th>\n",
       "    </tr>\n",
       "  </thead>\n",
       "  <tbody>\n",
       "    <tr>\n",
       "      <th>0</th>\n",
       "      <td>16_1_3_20170104222158160.jpg</td>\n",
       "      <td>00d99f9d8186fe3e</td>\n",
       "      <td>9c69c5760297366b</td>\n",
       "      <td>d5333b293b2c3cf4</td>\n",
       "    </tr>\n",
       "    <tr>\n",
       "      <th>1</th>\n",
       "      <td>40_1_0_20170105172927477.jpg</td>\n",
       "      <td>1f1f191d1c0e0e06</td>\n",
       "      <td>9988b5964e5b546d</td>\n",
       "      <td>b4bbf35171b8183c</td>\n",
       "    </tr>\n",
       "    <tr>\n",
       "      <th>2</th>\n",
       "      <td>71_1_0_20170110181315747.jpg</td>\n",
       "      <td>bfffff7f3f3c0000</td>\n",
       "      <td>8fb15e9f2d01d035</td>\n",
       "      <td>79699ed75f696125</td>\n",
       "    </tr>\n",
       "    <tr>\n",
       "      <th>3</th>\n",
       "      <td>80_1_0_20170110141417728.jpg</td>\n",
       "      <td>003c3c3c1c3e7e7c</td>\n",
       "      <td>926f613d6ab43178</td>\n",
       "      <td>71f1f1e97970f4d8</td>\n",
       "    </tr>\n",
       "    <tr>\n",
       "      <th>4</th>\n",
       "      <td>21_0_4_20161223214759249.jpg</td>\n",
       "      <td>081c1c3e3e3c3811</td>\n",
       "      <td>9e30694bb1e7706c</td>\n",
       "      <td>b130b4f4e0e86123</td>\n",
       "    </tr>\n",
       "  </tbody>\n",
       "</table>\n",
       "</div>"
      ],
      "text/plain": [
       "                     image_path             ahash             phash  \\\n",
       "0  16_1_3_20170104222158160.jpg  00d99f9d8186fe3e  9c69c5760297366b   \n",
       "1  40_1_0_20170105172927477.jpg  1f1f191d1c0e0e06  9988b5964e5b546d   \n",
       "2  71_1_0_20170110181315747.jpg  bfffff7f3f3c0000  8fb15e9f2d01d035   \n",
       "3  80_1_0_20170110141417728.jpg  003c3c3c1c3e7e7c  926f613d6ab43178   \n",
       "4  21_0_4_20161223214759249.jpg  081c1c3e3e3c3811  9e30694bb1e7706c   \n",
       "\n",
       "              dhash  \n",
       "0  d5333b293b2c3cf4  \n",
       "1  b4bbf35171b8183c  \n",
       "2  79699ed75f696125  \n",
       "3  71f1f1e97970f4d8  \n",
       "4  b130b4f4e0e86123  "
      ]
     },
     "execution_count": 11,
     "metadata": {},
     "output_type": "execute_result"
    }
   ],
   "source": [
    "hash_data = []\n",
    "for image in dataset:\n",
    "    image_path = os.path.join(dir, image)\n",
    "    ahash, phash, dhash = compute_hash(image_path)\n",
    "    hash_data.append({\n",
    "        'image_path' : image,\n",
    "        'ahash' : ahash,\n",
    "        'phash' : phash,\n",
    "        'dhash' : dhash\n",
    "    })\n",
    "\n",
    "hash_df = pd.DataFrame(hash_data)\n",
    "hash_df.head()"
   ]
  },
  {
   "cell_type": "code",
   "execution_count": 12,
   "id": "ce540270",
   "metadata": {},
   "outputs": [],
   "source": [
    "def find_duplicated(hash_df, hash_type):\n",
    "    duplicates = hash_df[hash_df.duplicated(subset=[hash_type], keep=False)]\n",
    "    groups = duplicates.groupby(hash_type)['image_path'].apply(list).reset_index()\n",
    "    groups = groups[groups['image_path'].apply(lambda x: len(x) > 1)]\n",
    "    return groups"
   ]
  },
  {
   "cell_type": "code",
   "execution_count": 13,
   "id": "1be8977b",
   "metadata": {},
   "outputs": [
    {
     "data": {
      "text/plain": [
       "(181, 2)"
      ]
     },
     "execution_count": 13,
     "metadata": {},
     "output_type": "execute_result"
    }
   ],
   "source": [
    "duplicated_ahash = find_duplicated(hash_df, 'ahash')\n",
    "duplicated_ahash.shape\n"
   ]
  },
  {
   "cell_type": "code",
   "execution_count": 14,
   "id": "fe2b1227",
   "metadata": {},
   "outputs": [
    {
     "data": {
      "text/plain": [
       "[['11_1_4_20161223225953124.jpg', '8_1_4_20170103233220163.jpg'],\n",
       " ['30_0_0_20170104201611041.jpg', '27_0_0_20170105164657988.jpg'],\n",
       " ['8_1_0_20170109202316791.jpg', '12_1_0_20170109205056743.jpg'],\n",
       " ['33_0_0_20170105165028532.jpg', '31_0_0_20170104201726242.jpg'],\n",
       " ['1_1_3_20161220221800802.jpg', '1_0_3_20161219230224536.jpg'],\n",
       " ['17_1_0_20170109201558943.jpg', '15_1_0_20170109213427133.jpg'],\n",
       " ['1_0_4_20170103205312818.jpg', '1_0_4_20161221202127697.jpg'],\n",
       " ['2_1_4_20161221202842353.jpg', '3_1_0_20170103213301485.jpg'],\n",
       " ['37_0_0_20170104210303340.jpg', '40_0_0_20170105172925445.jpg'],\n",
       " ['53_1_0_20170110141616567.jpg', '51_1_0_20170110160643172.jpg'],\n",
       " ['60_1_0_20170110151441645.jpg', '60_1_0_20170110154145935.jpg'],\n",
       " ['55_0_0_20170111202253255.jpg',\n",
       "  '53_0_0_20170111200627419.jpg',\n",
       "  '56_0_0_20170111222411632.jpg'],\n",
       " ['8_1_4_20161223230041764.jpg', '8_1_0_20170109204251231.jpg'],\n",
       " ['46_1_0_20170110160643141.jpg', '56_1_0_20170110153255801.jpg'],\n",
       " ['67_1_0_20170110140452381.jpg', '67_1_0_20170110143329621.jpg'],\n",
       " ['64_1_0_20170110131951168.jpg', '58_1_0_20170110140856753.jpg'],\n",
       " ['66_1_0_20170110132126931.jpg', '66_1_0_20170110140711170.jpg'],\n",
       " ['78_0_0_20170111222257902.jpg', '75_0_0_20170111210708463.jpg'],\n",
       " ['16_0_0_20170110232429214.jpg', '15_0_0_20170110225440579.jpg'],\n",
       " ['1_0_3_20161220142927974.jpg', '2_1_1_20161219154450740.jpg'],\n",
       " ['21_0_4_20161223214830361.jpg', '20_1_4_20170103223123528.jpg'],\n",
       " ['68_1_0_20170110175345439.jpg', '72_1_0_20170110175634167.jpg'],\n",
       " ['3_1_3_20161219225530536.jpg', '4_1_3_20161220221751466.jpg'],\n",
       " ['56_1_0_20170110131907975.jpg', '60_1_0_20170110140900329.jpg'],\n",
       " ['1_1_0_20161220142938007.jpg', '1_1_0_20161220220143105.jpg'],\n",
       " ['10_1_1_20170109203522559.jpg', '14_1_0_20170109204620092.jpg'],\n",
       " ['65_1_0_20170110141251497.jpg', '65_1_0_20170110133937781.jpg'],\n",
       " ['62_1_0_20170110141021529.jpg', '69_1_0_20170110140355514.jpg'],\n",
       " ['60_1_0_20170110140651218.jpg', '60_1_0_20170110131846245.jpg'],\n",
       " ['30_0_4_20170103230144585.jpg', '21_0_4_20161223214805057.jpg'],\n",
       " ['18_1_3_20170109213144758.jpg', '24_1_3_20170104222352872.jpg'],\n",
       " ['76_0_0_20170111210806003.jpg', '76_0_0_20170111210148707.jpg'],\n",
       " ['8_1_0_20170109202314510.jpg', '8_1_0_20170109205024714.jpg'],\n",
       " ['16_1_4_20170104005411807.jpg', '18_1_4_20161223232148173.jpg'],\n",
       " ['7_1_0_20170109202312260.jpg', '11_1_0_20170109204927071.jpg'],\n",
       " ['2_0_4_20170103210928251.jpg', '2_0_4_20161221202954025.jpg'],\n",
       " ['24_1_4_20170103235745076.jpg', '20_1_4_20170103225902242.jpg'],\n",
       " ['76_1_0_20170110131747399.jpg', '67_1_0_20170110140434646.jpg'],\n",
       " ['7_1_4_20161224002213337.jpg', '7_1_4_20161224001014334.jpg'],\n",
       " ['10_0_0_20170110220644705.jpg', '13_0_0_20170110232519225.jpg'],\n",
       " ['34_1_0_20170103183107138.jpg', '30_1_0_20170103182948122.jpg'],\n",
       " ['11_1_0_20170109204611305.jpg', '8_1_0_20170109202734214.jpg'],\n",
       " ['81_0_0_20170111222146910.jpg', '82_0_0_20170111210140987.jpg'],\n",
       " ['15_1_0_20170109204203014.jpg', '15_1_0_20170109204314585.jpg'],\n",
       " ['74_0_0_20170111223743652.jpg', '75_0_0_20170111210525525.jpg'],\n",
       " ['16_0_0_20170110232818695.jpg', '16_0_0_20170110232316211.jpg'],\n",
       " ['5_1_0_20170109201733901.jpg', '6_1_0_20170109204905156.jpg'],\n",
       " ['49_1_0_20170109221050190.jpg', '60_1_0_20170110153435061.jpg'],\n",
       " ['80_0_0_20170111211508161.jpg', '80_0_0_20170111211628015.jpg'],\n",
       " ['14_0_0_20170110231657425.jpg', '14_0_0_20170110232651186.jpg'],\n",
       " ['16_1_0_20170109203419299.jpg', '15_1_0_20170109204237329.jpg'],\n",
       " ['72_1_0_20170110153738448.jpg', '72_1_0_20170110142532852.jpg'],\n",
       " ['54_1_3_20170109142901150.jpg', '54_1_0_20170109142905822.jpg'],\n",
       " ['82_0_0_20170111223748572.jpg', '76_0_0_20170111201944904.jpg'],\n",
       " ['11_0_0_20170110224606036.jpg', '13_0_0_20170110225059227.jpg'],\n",
       " ['56_0_1_20170111211502304.jpg',\n",
       "  '65_1_0_20170110152931044.jpg',\n",
       "  '62_0_0_20170111205219231.jpg'],\n",
       " ['63_0_0_20170111193827549.jpg', '56_0_0_20170111200430322.jpg'],\n",
       " ['8_1_0_20170109203437340.jpg', '10_1_0_20170109204259563.jpg'],\n",
       " ['13_1_0_20170109213526011.jpg', '10_1_0_20170109201728056.jpg'],\n",
       " ['72_1_0_20170110125258812.jpg',\n",
       "  '75_1_0_20170110182959300.jpg',\n",
       "  '71_1_0_20170110141059193.jpg'],\n",
       " ['28_1_2_20170109141410232.jpg', '32_1_2_20170109141403511.jpg'],\n",
       " ['13_1_0_20170109204325267.jpg', '12_1_0_20170109203628860.jpg'],\n",
       " ['16_0_4_20161221200238647.jpg', '18_0_4_20170103234736836.jpg'],\n",
       " ['22_1_4_20170103225134240.jpg', '24_1_4_20170103233956963.jpg'],\n",
       " ['10_0_0_20170110225442428.jpg', '9_0_0_20170110220406314.jpg'],\n",
       " ['90_0_0_20170111223757607.jpg', '73_0_0_20170105001507628.jpg'],\n",
       " ['61_1_3_20170105001450436.jpg', '62_1_3_20170109150704840.jpg'],\n",
       " ['65_1_0_20170110132559859.jpg', '62_1_0_20170110133917734.jpg'],\n",
       " ['1_0_0_20161220223221043.jpg', '1_0_0_20161219162630727.jpg'],\n",
       " ['2_1_2_20161219213559615.jpg', '1_0_2_20161219213454832.jpg'],\n",
       " ['21_0_4_20161223214826657.jpg',\n",
       "  '6_1_4_20170103230723185.jpg',\n",
       "  '6_1_0_20170104010034799.jpg'],\n",
       " ['1_0_3_20161220220418690.jpg', '1_0_3_20161220144949223.jpg'],\n",
       " ['49_1_3_20170104235844116.jpg', '51_1_3_20170109142417013.jpg'],\n",
       " ['8_0_0_20170110220246250.jpg', '9_0_0_20170110225510191.jpg'],\n",
       " ['6_1_4_20170104010006062.jpg', '4_1_4_20161223232228388.jpg'],\n",
       " ['23_1_4_20170103223558799.jpg', '23_1_4_20161223214744290.jpg'],\n",
       " ['1_1_3_20161220143111349.jpg', '1_0_3_20161220220606705.jpg'],\n",
       " ['77_1_0_20170110125310561.jpg',\n",
       "  '68_1_0_20170110183125200.jpg',\n",
       "  '73_1_0_20170110141055369.jpg'],\n",
       " ['96_1_1_20170110183853718.jpg', '96_1_0_20170110183855839.jpg'],\n",
       " ['71_1_0_20170110181315747.jpg', '66_1_0_20170110141120112.jpg'],\n",
       " ['61_1_3_20170109142522355.jpg', '62_0_3_20170109142504979.jpg'],\n",
       " ['1_1_4_20170103210113314.jpg', '1_1_4_20161221195027223.jpg'],\n",
       " ['5_1_2_20161219151834275.jpg', '5_1_2_20161219151522483.jpg'],\n",
       " ['1_1_4_20161221202018329.jpg', '1_1_4_20161221200207440.jpg'],\n",
       " ['16_0_0_20170110231801615.jpg', '17_0_0_20170110232044494.jpg'],\n",
       " ['1_1_4_20170103212217155.jpg',\n",
       "  '1_1_4_20161223231311515.jpg',\n",
       "  '1_0_3_20161219230455336.jpg'],\n",
       " ['10_0_0_20170110225505288.jpg', '9_0_0_20170110220134026.jpg'],\n",
       " ['16_0_0_20170110232725516.jpg', '15_0_0_20170110223430616.jpg'],\n",
       " ['1_0_2_20161219141912009.jpg', '1_0_2_20161219162118102.jpg'],\n",
       " ['60_1_0_20170110131859302.jpg', '60_1_0_20170110140637026.jpg'],\n",
       " ['6_1_4_20170103233146667.jpg', '7_1_4_20170103230718288.jpg'],\n",
       " ['21_0_4_20161223214831392.jpg', '25_1_4_20170103224600280.jpg'],\n",
       " ['8_0_0_20170110220118138.jpg', '10_0_0_20170110225502403.jpg'],\n",
       " ['35_0_3_20170104201604930.jpg', '39_0_3_20170105164649724.jpg'],\n",
       " ['1_0_3_20161220143042511.jpg', '3_0_0_20161219154705684.jpg'],\n",
       " ['16_0_0_20170110231219975.jpg', '16_0_0_20170110231617005.jpg'],\n",
       " ['9_0_0_20170110220312322.jpg', '9_0_0_20170110225608402.jpg'],\n",
       " ['1_0_3_20161220142923423.jpg', '2_0_0_20161219162301430.jpg'],\n",
       " ['15_1_4_20170103234910356.jpg', '10_0_4_20170103223451479.jpg'],\n",
       " ['20_1_4_20161223230050564.jpg', '18_1_4_20170103224632313.jpg'],\n",
       " ['2_0_0_20170110212816271.jpg', '2_0_0_20170110225322822.jpg'],\n",
       " ['56_0_0_20170111171747454.jpg', '56_0_0_20170111171747459.jpg'],\n",
       " ['1_1_3_20161220221547970.jpg', '1_1_3_20161219225245716.jpg'],\n",
       " ['1_0_4_20161221200034160.jpg',\n",
       "  '2_1_4_20170103210830609.jpg',\n",
       "  '2_0_4_20161221202237961.jpg'],\n",
       " ['8_0_0_20170103210941483.jpg', '3_0_0_20170110213730328.jpg'],\n",
       " ['8_1_0_20170109202858319.jpg', '8_1_0_20170109205258890.jpg'],\n",
       " ['32_0_3_20170109141302293.jpg', '32_0_3_20170104220341542.jpg'],\n",
       " ['21_0_4_20161223214813672.jpg', '27_1_4_20170103225912217.jpg'],\n",
       " ['21_0_4_20161223214820169.jpg', '24_1_4_20170103224550520.jpg'],\n",
       " ['78_1_0_20170110131945504.jpg', '72_1_0_20170110140438240.jpg'],\n",
       " ['56_1_0_20170109221138733.jpg', '53_1_0_20170110140721731.jpg'],\n",
       " ['3_1_3_20161219230521112.jpg', '4_1_3_20161220221856138.jpg'],\n",
       " ['24_1_4_20170103224910931.jpg', '26_1_4_20170103213122476.jpg'],\n",
       " ['20_1_4_20161223230110540.jpg',\n",
       "  '23_1_4_20170103223600551.jpg',\n",
       "  '20_1_4_20170104005353062.jpg',\n",
       "  '21_0_4_20161223214838473.jpg'],\n",
       " ['14_1_0_20170109212753539.jpg', '14_1_0_20170109204358190.jpg'],\n",
       " ['4_1_4_20170103210349522.jpg', '5_1_4_20161221201710702.jpg'],\n",
       " ['1_0_2_20161219142409225.jpg', '1_1_2_20161219151127243.jpg'],\n",
       " ['56_0_0_20170111210636788.jpg', '54_0_0_20170111195752794.jpg'],\n",
       " ['1_0_3_20161220220116873.jpg', '1_0_3_20161220145532127.jpg'],\n",
       " ['21_0_4_20161223214836609.jpg', '17_1_4_20170103222920542.jpg'],\n",
       " ['21_1_4_20170103225014665.jpg', '21_0_4_20161223214827816.jpg'],\n",
       " ['66_1_0_20170110140422693.jpg',\n",
       "  '66_1_0_20170110143321085.jpg',\n",
       "  '51_1_0_20170110153411621.jpg',\n",
       "  '63_1_0_20170109221021608.jpg'],\n",
       " ['10_0_0_20170110225528484.jpg', '15_0_0_20170110232730918.jpg'],\n",
       " ['2_1_2_20161219141220720.jpg', '15_0_3_20170104225906465.jpg'],\n",
       " ['1_1_1_20161219155940125.jpg', '1_1_3_20161220143239294.jpg'],\n",
       " ['5_1_0_20170104202352685.jpg', '53_1_0_20170104202409738.jpg'],\n",
       " ['23_1_0_20170103234935189.jpg', '22_1_4_20161221195925096.jpg'],\n",
       " ['84_1_0_20170110140658706.jpg',\n",
       "  '85_1_0_20170110155144403.jpg',\n",
       "  '85_1_0_20170110183728036.jpg'],\n",
       " ['72_0_0_20170111205848815.jpg', '74_0_0_20170111222222432.jpg'],\n",
       " ['1_1_1_20170109191256746.jpg', '1_1_1_20170109194716353.jpg'],\n",
       " ['21_0_4_20161223214825003.jpg', '30_1_4_20170103230152025.jpg'],\n",
       " ['14_0_0_20170110225116744.jpg', '65_0_0_20170111195412945.jpg'],\n",
       " ['7_1_0_20170104005639246.jpg', '2_1_0_20170109194017380.jpg'],\n",
       " ['24_1_4_20170103234050620.jpg',\n",
       "  '21_0_4_20161223214829361.jpg',\n",
       "  '24_1_4_20170103230402800.jpg'],\n",
       " ['9_0_2_20170110215518068.jpg', '8_0_2_20161219162204262.jpg'],\n",
       " ['64_1_0_20170110154140951.jpg', '60_1_0_20170110141239841.jpg'],\n",
       " ['3_1_0_20170109191823943.jpg', '1_1_0_20170109191822349.jpg'],\n",
       " ['4_0_3_20161220222803227.jpg', '4_0_4_20161221193322159.jpg'],\n",
       " ['5_0_0_20170110213149382.jpg', '7_0_0_20170110215944035.jpg'],\n",
       " ['1_0_3_20161220223100579.jpg', '1_1_3_20161220143345775.jpg'],\n",
       " ['15_1_0_20170109204210842.jpg', '15_1_0_20170109203414090.jpg'],\n",
       " ['1_0_2_20161219163930672.jpg', '1_0_2_20161219190025955.jpg'],\n",
       " ['8_1_3_20170109205422312.jpg', '7_1_3_20170104223307815.jpg'],\n",
       " ['31_1_0_20170105162708403.jpg', '24_1_0_20170105162704533.jpg'],\n",
       " ['3_1_2_20161219190200060.jpg', '7_1_2_20161219190156114.jpg'],\n",
       " ['2_1_0_20170109194711891.jpg', '1_1_0_20170109191212799.jpg'],\n",
       " ['1_0_2_20161219161625326.jpg', '2_0_2_20161219190509034.jpg'],\n",
       " ['1_0_3_20161220220038618.jpg', '1_1_3_20161220143219502.jpg'],\n",
       " ['58_0_0_20170109013804774.jpg', '58_0_0_20170109013804013.jpg'],\n",
       " ['63_1_0_20170110141744495.jpg', '61_1_0_20170110122324992.jpg'],\n",
       " ['76_1_0_20170110131744527.jpg', '75_1_0_20170110140824258.jpg'],\n",
       " ['60_1_0_20170110143543095.jpg', '59_1_0_20170110180108013.jpg'],\n",
       " ['1_0_4_20170103210247922.jpg', '1_0_1_20170110213113882.jpg'],\n",
       " ['8_1_0_20170109204935187.jpg', '8_1_0_20170109202738358.jpg'],\n",
       " ['75_1_0_20170110141247761.jpg', '73_1_0_20170110140448378.jpg'],\n",
       " ['60_0_3_20170104220126534.jpg', '62_0_3_20170109134459638.jpg'],\n",
       " ['2_0_2_20161219142522753.jpg', '1_1_2_20161219162021366.jpg'],\n",
       " ['23_1_1_20170103223013127.jpg', '21_0_4_20161223214835183.jpg'],\n",
       " ['62_1_0_20170110131856737.jpg',\n",
       "  '71_1_0_20170110153303997.jpg',\n",
       "  '67_1_0_20170110140730634.jpg'],\n",
       " ['41_1_3_20170105001059203.jpg', '41_1_3_20170109140751299.jpg'],\n",
       " ['6_1_0_20170109203213701.jpg', '8_1_0_20170109205127726.jpg'],\n",
       " ['21_0_4_20161223214837442.jpg', '20_1_4_20170103224540624.jpg'],\n",
       " ['1_0_3_20161219230032969.jpg', '1_0_1_20161219160115237.jpg'],\n",
       " ['2_0_3_20161220143058738.jpg', '1_0_3_20161220220508802.jpg'],\n",
       " ['5_1_3_20161220221703978.jpg', '3_1_3_20161219225534376.jpg'],\n",
       " ['6_1_0_20170109204828030.jpg', '8_1_0_20170109205416266.jpg'],\n",
       " ['10_1_0_20170109204931156.jpg', '6_1_0_20170109202302115.jpg'],\n",
       " ['1_1_0_20161219154510229.jpg', '1_1_2_20170109193844660.jpg'],\n",
       " ['1_0_3_20161220143121101.jpg', '1_0_3_20161220222945883.jpg'],\n",
       " ['2_0_0_20170103205800494.jpg', '1_0_4_20161221202132305.jpg'],\n",
       " ['9_0_0_20170110220237634.jpg', '11_0_0_20170110225435539.jpg'],\n",
       " ['1_0_3_20161220145001239.jpg', '1_0_3_20161220220544050.jpg'],\n",
       " ['9_0_0_20170110220148443.jpg', '10_0_0_20170110225451638.jpg'],\n",
       " ['1_0_0_20170110211538942.jpg', '3_0_0_20170110212535063.jpg'],\n",
       " ['90_0_0_20170111222418306.jpg', '82_0_0_20170111210717906.jpg'],\n",
       " ['86_0_0_20170111205938881.jpg', '85_0_0_20170111223752482.jpg'],\n",
       " ['1_1_0_20170109193148580.jpg', '1_0_0_20170109193328570.jpg'],\n",
       " ['2_0_4_20170103212058572.jpg', '1_0_4_20170103202331712.jpg'],\n",
       " ['17_1_0_20170109201930035.jpg', '15_1_0_20170109213613605.jpg'],\n",
       " ['1_0_2_20161219203439924.jpg', '1_0_2_20161219201409620.jpg'],\n",
       " ['73_1_0_20170110182146582.jpg', '62_1_0_20170110173810498.jpg']]"
      ]
     },
     "execution_count": 14,
     "metadata": {},
     "output_type": "execute_result"
    }
   ],
   "source": [
    "duplicated_ahash['image_path'].tolist()"
   ]
  },
  {
   "cell_type": "code",
   "execution_count": 18,
   "id": "27971cc7",
   "metadata": {},
   "outputs": [
    {
     "data": {
      "text/plain": [
       "(169, 2)"
      ]
     },
     "execution_count": 18,
     "metadata": {},
     "output_type": "execute_result"
    }
   ],
   "source": [
    "duplicated_phash = find_duplicated(hash_df, 'phash')\n",
    "duplicated_phash.shape\n"
   ]
  },
  {
   "cell_type": "code",
   "execution_count": 19,
   "id": "3ab4c9fe",
   "metadata": {},
   "outputs": [
    {
     "data": {
      "text/plain": [
       "(155, 2)"
      ]
     },
     "execution_count": 19,
     "metadata": {},
     "output_type": "execute_result"
    }
   ],
   "source": [
    "duplicated_dhash = find_duplicated(hash_df, 'dhash')\n",
    "duplicated_dhash.shape\n"
   ]
  },
  {
   "cell_type": "code",
   "execution_count": 20,
   "id": "4837e999",
   "metadata": {},
   "outputs": [
    {
     "name": "stdout",
     "output_type": "stream",
     "text": [
      "Length of duplicated ahash 376 phash 351 dhash 319\n"
     ]
    }
   ],
   "source": [
    "dup_a = sum(duplicated_ahash['image_path'].tolist(),[])\n",
    "dup_p = sum(duplicated_phash['image_path'].tolist(),[])\n",
    "dup_d = sum(duplicated_dhash['image_path'].tolist(),[])\n",
    "print(f\"Length of duplicated ahash {len(dup_a)} phash {len(dup_p)} dhash {len(dup_d)}\")"
   ]
  },
  {
   "cell_type": "code",
   "execution_count": 29,
   "id": "1b9d672e",
   "metadata": {},
   "outputs": [
    {
     "name": "stdout",
     "output_type": "stream",
     "text": [
      "Total duplicated images: 1046\n"
     ]
    }
   ],
   "source": [
    "# merging all three hash lists\n",
    "all_duplicates = []\n",
    "all_duplicates.extend(dup_a)\n",
    "all_duplicates.extend(dup_p)\n",
    "all_duplicates.extend(dup_d)\n",
    "print(f\"Total duplicated images: {len(all_duplicates)}\")"
   ]
  },
  {
   "cell_type": "code",
   "execution_count": 28,
   "id": "faa5329c",
   "metadata": {},
   "outputs": [
    {
     "name": "stdout",
     "output_type": "stream",
     "text": [
      "Unique duplicated images: 397\n"
     ]
    }
   ],
   "source": [
    "# unique duplicated images\n",
    "unique_duplicates = set(all_duplicates)\n",
    "print(f\"Unique duplicated images: {len(unique_duplicates)}\")"
   ]
  },
  {
   "cell_type": "code",
   "execution_count": 30,
   "id": "691222f8",
   "metadata": {},
   "outputs": [
    {
     "name": "stdout",
     "output_type": "stream",
     "text": [
      "Final duplicated images after removing uniques: 649\n"
     ]
    }
   ],
   "source": [
    "# deleting unique duplicated images from total duplicated images\n",
    "for img_name in unique_duplicates:\n",
    "    if img_name in all_duplicates:\n",
    "        all_duplicates.remove(img_name)\n",
    "print(f\"Final duplicated images after removing uniques: {len(all_duplicates)}\")"
   ]
  },
  {
   "cell_type": "code",
   "execution_count": 35,
   "id": "add57f10",
   "metadata": {},
   "outputs": [
    {
     "name": "stdout",
     "output_type": "stream",
     "text": [
      "Removed duplicated images from dataset.\n"
     ]
    }
   ],
   "source": [
    "# removing this final duplicated images from dataset\n",
    "for img_name in all_duplicates:\n",
    "    if img_name in dataset:\n",
    "        dataset.remove(img_name)\n",
    "print(\"Removed duplicated images from dataset.\")"
   ]
  },
  {
   "cell_type": "code",
   "execution_count": 36,
   "id": "2a529441",
   "metadata": {},
   "outputs": [
    {
     "data": {
      "text/plain": [
       "9784"
      ]
     },
     "execution_count": 36,
     "metadata": {},
     "output_type": "execute_result"
    }
   ],
   "source": [
    "len(dataset)"
   ]
  },
  {
   "cell_type": "code",
   "execution_count": null,
   "id": "1db014b8",
   "metadata": {},
   "outputs": [],
   "source": []
  }
 ],
 "metadata": {
  "kernelspec": {
   "display_name": "agdenv",
   "language": "python",
   "name": "python3"
  },
  "language_info": {
   "codemirror_mode": {
    "name": "ipython",
    "version": 3
   },
   "file_extension": ".py",
   "mimetype": "text/x-python",
   "name": "python",
   "nbconvert_exporter": "python",
   "pygments_lexer": "ipython3",
   "version": "3.11.13"
  }
 },
 "nbformat": 4,
 "nbformat_minor": 5
}
