{
 "cells": [
  {
   "cell_type": "code",
   "execution_count": 2,
   "id": "85f13585",
   "metadata": {},
   "outputs": [],
   "source": [
    "import torch\n",
    "import torch.nn as nn\n",
    "from torch.utils.data import DataLoader, random_split\n",
    "from torchvision import transforms\n",
    "import numpy as np\n",
    "import os\n",
    "\n",
    "from data_loader import FaceDataset\n",
    "from model import AgeGenderModel"
   ]
  },
  {
   "cell_type": "code",
   "execution_count": 3,
   "id": "b30ce0f9",
   "metadata": {},
   "outputs": [],
   "source": [
    "device = torch.device(\"cuda\" if torch.cuda.is_available() else \"cpu\")\n",
    "    \n",
    "model = AgeGenderModel().to(device)\n",
    "model.load_state_dict(torch.load('models/age_gender_model.pth', map_location=torch.device('cpu')))\n",
    "model.eval()\n",
    "\n",
    "transform = transforms.Compose([\n",
    "    transforms.Resize((224, 224)),\n",
    "    transforms.ToTensor(),\n",
    "    transforms.Normalize(mean=[0.485, 0.456, 0.406], std=[0.229, 0.224, 0.225]),\n",
    "])"
   ]
  },
  {
   "cell_type": "code",
   "execution_count": 4,
   "id": "f27d3253",
   "metadata": {},
   "outputs": [],
   "source": [
    "full_dataset = FaceDataset(root_dir='dataset', transform=transform)\n",
    "# filtered_indices = [i for i, (data, label) in enumerate(full_dataset) if data is not None]\n",
    "dataset = full_dataset\n",
    "\n",
    "train_size = int(0.8 * len(dataset))\n",
    "val_size = int(0.1 * len(dataset))\n",
    "test_size = len(dataset) - train_size - val_size\n",
    "_, _, test_dataset = random_split(dataset, [train_size, val_size, test_size])\n",
    "\n",
    "test_loader = DataLoader(test_dataset, batch_size=32, shuffle=False)\n"
   ]
  },
  {
   "cell_type": "code",
   "execution_count": 5,
   "id": "eae671a4",
   "metadata": {},
   "outputs": [],
   "source": [
    "all_ages = []\n",
    "all_age_preds = []\n",
    "all_genders = []\n",
    "all_gender_preds = []\n",
    "\n",
    "with torch.no_grad():\n",
    "    for images, labels in test_loader:\n",
    "        images = images.to(device)\n",
    "        ages = labels[:, 0].numpy()\n",
    "        genders = labels[:, 1].numpy()\n",
    "        \n",
    "        age_pred, gender_pred = model(images)\n",
    "        \n",
    "        all_ages.extend(ages)\n",
    "        all_genders.extend(genders)\n",
    "        all_age_preds.extend(age_pred.squeeze().cpu().numpy())\n",
    "        all_gender_preds.extend(torch.argmax(gender_pred, dim=1).cpu().numpy())\n"
   ]
  },
  {
   "cell_type": "code",
   "execution_count": 6,
   "id": "a90400e0",
   "metadata": {},
   "outputs": [],
   "source": [
    "from sklearn.metrics import accuracy_score, mean_absolute_error, confusion_matrix"
   ]
  },
  {
   "cell_type": "code",
   "execution_count": 14,
   "id": "f906e28c",
   "metadata": {},
   "outputs": [
    {
     "name": "stdout",
     "output_type": "stream",
     "text": [
      "Age Accuracy: 18.9163%\n",
      "Gender Accuracy: 77.7340%\n",
      "Gender Confusion Matrix:\n",
      " [[326 111]\n",
      " [115 463]]\n",
      "Age Mean Absolute Error (MAE): 2.46\n",
      "Gender Mean Absolute Error (MAE): 0.22\n"
     ]
    }
   ],
   "source": [
    "\n",
    "gender_accuracy = accuracy_score(all_genders, all_gender_preds)\n",
    "gender_conf_matrix = confusion_matrix(all_genders, all_gender_preds)\n",
    "\n",
    "age_accuracy = accuracy_score(all_ages, np.round(all_age_preds))\n",
    "# age_conf_matrix = confusion_matrix(all_ages, np.round(all_age_preds))\n",
    "\n",
    "mae_age = mean_absolute_error(all_ages, all_age_preds)\n",
    "mae_gender = mean_absolute_error(all_genders, all_gender_preds)\n",
    "\n",
    "print(f\"Age Accuracy: {age_accuracy*100:.4f}%\")\n",
    "# print(\"Age Confusion Matrix:\\n\", age_conf_matrix)\n",
    "print(f\"Gender Accuracy: {gender_accuracy*100:.4f}%\")\n",
    "print(\"Gender Confusion Matrix:\\n\", gender_conf_matrix)\n",
    "print(f\"Age Mean Absolute Error (MAE): {mae:.2f}\")\n",
    "print(f\"Gender Mean Absolute Error (MAE): {mae_gender:.2f}\")"
   ]
  },
  {
   "cell_type": "code",
   "execution_count": null,
   "id": "236602ac",
   "metadata": {},
   "outputs": [],
   "source": []
  }
 ],
 "metadata": {
  "kernelspec": {
   "display_name": "agdenv",
   "language": "python",
   "name": "python3"
  },
  "language_info": {
   "codemirror_mode": {
    "name": "ipython",
    "version": 3
   },
   "file_extension": ".py",
   "mimetype": "text/x-python",
   "name": "python",
   "nbconvert_exporter": "python",
   "pygments_lexer": "ipython3",
   "version": "3.11.13"
  }
 },
 "nbformat": 4,
 "nbformat_minor": 5
}
